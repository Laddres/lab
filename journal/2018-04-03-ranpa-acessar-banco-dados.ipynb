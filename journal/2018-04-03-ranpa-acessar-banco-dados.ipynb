{
 "cells": [
  {
   "cell_type": "markdown",
   "metadata": {},
   "source": [
    "# 03 abr 2018\n",
    "\n",
    "A idéia inicial era fazer as migrations pro banco de dados mysql. Mas preciso aprender algumas coisas sobre migrations e como organizar o repositório da API.\n",
    "\n",
    "Assim, vou criar o banco de dados local e tentar utilizar o python para manipulá-lo.\n",
    "\n",
    "Utilizando a documentação oficial do MySQL: https://dev.mysql.com/doc/connector-python/en/connector-python-example-connecting.html"
   ]
  },
  {
   "cell_type": "code",
   "execution_count": 1,
   "metadata": {
    "collapsed": true
   },
   "outputs": [],
   "source": [
    "import mysql.connector\n",
    "\n",
    "cnx = mysql.connector.connect(user='root', password='',\n",
    "                              host='127.0.0.1',\n",
    "                              database='teste_laddres')\n",
    "\n",
    "cnx.close()"
   ]
  },
  {
   "cell_type": "markdown",
   "metadata": {},
   "source": [
    "### Leitura de uma tabela no banco de dados\n",
    "\n",
    "https://dev.mysql.com/doc/connector-python/en/connector-python-example-cursor-select.html"
   ]
  },
  {
   "cell_type": "code",
   "execution_count": 11,
   "metadata": {},
   "outputs": [
    {
     "name": "stdout",
     "output_type": "stream",
     "text": [
      "Raimundo\n",
      "teste@gmail.com.br\n",
      "{\"nome\": \"Raimundo\", \"email\": \"teste@gmail.com\"}\n"
     ]
    }
   ],
   "source": [
    "cnx = mysql.connector.connect(user='root', password='',\n",
    "                              host='127.0.0.1',\n",
    "                              database='teste_laddres')\n",
    "\n",
    "cursor = cnx.cursor()\n",
    "\n",
    "query = (\"SELECT nome, email, json FROM teste01\")\n",
    "\n",
    "cursor.execute(query)\n",
    "\n",
    "for (nome, email, json) in cursor:\n",
    "  print(nome)\n",
    "  print(email)\n",
    "  print(json)\n",
    "#   print(\"{}, {} was hired on {:%d %b %Y}\".format(\n",
    "#     last_name, first_name, hire_date))\n",
    "\n",
    "cursor.close()\n",
    "cnx.close()"
   ]
  },
  {
   "cell_type": "markdown",
   "metadata": {},
   "source": [
    "### Inserindo elemento num tabela\n",
    "\n",
    "Utilizando a documentação oficial do MySQL: https://dev.mysql.com/doc/connector-python/en/connector-python-example-cursor-transaction.html"
   ]
  },
  {
   "cell_type": "code",
   "execution_count": 13,
   "metadata": {},
   "outputs": [
    {
     "name": "stdout",
     "output_type": "stream",
     "text": [
      "Último id %d 2\n"
     ]
    }
   ],
   "source": [
    "cnx = mysql.connector.connect(user='root', password='',\n",
    "                              host='127.0.0.1',\n",
    "                              database='teste_laddres')\n",
    "\n",
    "cursor = cnx.cursor()\n",
    "\n",
    "adicionarPessoa = (\"INSERT INTO teste01 \"\n",
    "               \"(nome, email, json) \"\n",
    "               \"VALUES ('Fagner', 'fagner@gmail.com', '{ \\\"nome\\\": \\\"Só o nome\\\" }')\")\n",
    "\n",
    "cursor.execute(adicionarPessoa)\n",
    "\n",
    "emp_no = cursor.lastrowid\n",
    "print (\"Último id\", emp_no)\n",
    "\n",
    "cnx.commit()\n",
    "\n",
    "cursor.close()\n",
    "cnx.close()"
   ]
  },
  {
   "cell_type": "markdown",
   "metadata": {},
   "source": [
    "Inserindo elemento através de um dicionário"
   ]
  },
  {
   "cell_type": "code",
   "execution_count": 16,
   "metadata": {},
   "outputs": [
    {
     "name": "stdout",
     "output_type": "stream",
     "text": [
      "Último id 3\n"
     ]
    }
   ],
   "source": [
    "cnx = mysql.connector.connect(user='root', password='',\n",
    "                              host='127.0.0.1',\n",
    "                              database='teste_laddres')\n",
    "\n",
    "cursor = cnx.cursor()\n",
    "\n",
    "add_pessoa = (\"INSERT INTO teste01 \"\n",
    "               \"(nome, email, json) \"\n",
    "               \"VALUES (%(nome)s, %(email)s, %(json)s)\")\n",
    "\n",
    "# Insert salary information\n",
    "data_pessoa = {\n",
    "  'nome': 'Outra Pessoa',\n",
    "  'email': '50000@gmail.com',\n",
    "  'json': '{ \\\"nome\\\": \\\"Agora como variável\\\" }',\n",
    "}\n",
    "cursor.execute(add_pessoa, data_pessoa)\n",
    "\n",
    "emp_no = cursor.lastrowid\n",
    "print (\"Último id\", emp_no)\n",
    "\n",
    "cnx.commit()\n",
    "\n",
    "cursor.close()\n",
    "cnx.close()"
   ]
  },
  {
   "cell_type": "code",
   "execution_count": null,
   "metadata": {
    "collapsed": true
   },
   "outputs": [],
   "source": []
  }
 ],
 "metadata": {
  "kernelspec": {
   "display_name": "Python 3",
   "language": "python",
   "name": "python3"
  },
  "language_info": {
   "codemirror_mode": {
    "name": "ipython",
    "version": 3
   },
   "file_extension": ".py",
   "mimetype": "text/x-python",
   "name": "python",
   "nbconvert_exporter": "python",
   "pygments_lexer": "ipython3",
   "version": "3.6.5"
  }
 },
 "nbformat": 4,
 "nbformat_minor": 2
}
