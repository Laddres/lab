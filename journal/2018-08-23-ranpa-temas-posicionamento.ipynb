{
 "cells": [
  {
   "cell_type": "markdown",
   "metadata": {},
   "source": [
    "# 23 ago 2018"
   ]
  },
  {
   "cell_type": "code",
   "execution_count": 1,
   "metadata": {},
   "outputs": [],
   "source": [
    "import pandas as pd\n",
    "import numpy as np"
   ]
  },
  {
   "cell_type": "code",
   "execution_count": 9,
   "metadata": {},
   "outputs": [],
   "source": [
    "from utils.camara_obter_dados import obter_detalhes\n",
    "from utils.camara_obter_dados import map_proposicoes\n",
    "from utils.dataframe_to_database import dataframe_to_database"
   ]
  },
  {
   "cell_type": "code",
   "execution_count": 3,
   "metadata": {},
   "outputs": [],
   "source": [
    "colunas_dataframe_tema = [\n",
    "    'id',\n",
    "    'idCategoria',\n",
    "    'titulo',\n",
    "    'descricao',\n",
    "    'origemImprensa',\n",
    "    'idProposicaoCamara',\n",
    "    'idVotacaoProposicaoCamara',\n",
    "    'idProposicaoSenado',\n",
    "    'idVotacaoProposicaoSenado',\n",
    "]\n",
    "\n",
    "colunas_tabela_tema = [\n",
    "    'id',\n",
    "    'tema_categoria_id',\n",
    "    'titulo',\n",
    "    'descricao',\n",
    "    'origem_imprensa',\n",
    "    'camara_proposicao_id',\n",
    "    'camara_proposicao_votacao_id',\n",
    "    'senado_proposicao_id',\n",
    "    'senado_proposicao_votacao_id',\n",
    "]\n",
    "\n",
    "colunas_dataframe_tema_link = [\n",
    "    'idTema',\n",
    "    'titulo',\n",
    "    'url',\n",
    "    'shortUrl',\n",
    "]\n",
    "\n",
    "colunas_tabela_tema_link = [\n",
    "    'tema_id',\n",
    "    'titulo',\n",
    "    'url',\n",
    "    'short_url',\n",
    "]"
   ]
  },
  {
   "cell_type": "markdown",
   "metadata": {},
   "source": [
    "## Economia - Congelamento dos Gastos em Serviços Públicos (PEC doTeto)"
   ]
  },
  {
   "cell_type": "code",
   "execution_count": 4,
   "metadata": {},
   "outputs": [
    {
     "name": "stdout",
     "output_type": "stream",
     "text": [
      "3 de 3"
     ]
    }
   ],
   "source": [
    "df_links = pd.DataFrame(\n",
    "  data=[\n",
    "      {\n",
    "          'idTema': 1,\n",
    "          'titulo': 'O que é e quais são os impactos da proposta do governo para congelar o gasto público - Nexo Jornal',\n",
    "          'url': 'https://www.nexojornal.com.br/expresso/2016/10/09/O-que-%C3%A9-e-quais-s%C3%A3o-os-impactos-da-proposta-do-governo-para-congelar-o-gasto-p%C3%BAblico',\n",
    "          'shortUrl': 'http://bit.ly/2o1QIGb',\n",
    "      },\n",
    "      {\n",
    "          'idTema': 1,\n",
    "          'titulo': 'Entenda o que é a PEC 241 (ou 55) e como ela pode afetar sua vida',\n",
    "          'url': 'https://brasil.elpais.com/brasil/2016/10/10/politica/1476125574_221053.html',\n",
    "          'shortUrl': 'http://bit.ly/2OZupwd',\n",
    "      },\n",
    "      {\n",
    "          'idTema': 1,\n",
    "          'titulo': 'G1 - Economia - PEC 241 - Um teto para os gastos públicos',\n",
    "          'url': 'http://especiais.g1.globo.com/economia/2016/pec241-umtetoparaosgastospblicos/',\n",
    "          'shortUrl': 'http://bit.ly/2o2nAyv',\n",
    "      },\n",
    "  ],\n",
    "  columns=colunas_dataframe_tema_link\n",
    ")\n",
    "dataframe_to_database(\n",
    "    dataframe=df_links,\n",
    "    tabela='tema_link',\n",
    "    colunas_tabela=colunas_tabela_tema_link,\n",
    "    colunas_dataframe=colunas_dataframe_tema_link\n",
    ")"
   ]
  },
  {
   "cell_type": "markdown",
   "metadata": {},
   "source": [
    "## Economia - Reforma Trabalhista"
   ]
  },
  {
   "cell_type": "code",
   "execution_count": 6,
   "metadata": {},
   "outputs": [
    {
     "name": "stdout",
     "output_type": "stream",
     "text": [
      "\r",
      "1 de 1"
     ]
    }
   ],
   "source": [
    "df_tema = pd.DataFrame(\n",
    "    data=[{\n",
    "        'id': 2,\n",
    "        'idCategoria': 1,\n",
    "        'titulo': 'Reforma Trabalhista',\n",
    "        'descricao': 'As alterações mexem em pontos como férias, jornada de trabalho, remuneração e plano de carreira.',\n",
    "        'origemImprensa': False,\n",
    "        'idProposicaoCamara': 2122076,\n",
    "        'idVotacaoProposicaoCamara': 7492,\n",
    "        'idProposicaoSenado': None,\n",
    "        'idVotacaoProposicaoSenado': None,\n",
    "    }],\n",
    "    columns=colunas_dataframe_tema\n",
    ")\n",
    "dataframe_to_database(\n",
    "    dataframe=df_tema,\n",
    "    tabela='tema',\n",
    "    colunas_tabela=colunas_tabela_tema,\n",
    "    colunas_dataframe=colunas_dataframe_tema\n",
    ")"
   ]
  },
  {
   "cell_type": "markdown",
   "metadata": {},
   "source": [
    "## Economia - Terceirização de Todas as Atividades"
   ]
  },
  {
   "cell_type": "markdown",
   "metadata": {},
   "source": [
    "Como esta proposição é anterior a 2003, ela não está cadastrada na tabela de proposições detalhadas, vamos cadastrá-la manualmente"
   ]
  },
  {
   "cell_type": "code",
   "execution_count": 10,
   "metadata": {},
   "outputs": [],
   "source": [
    "df_i = obter_detalhes(\n",
    "    endpoint='/proposicoes',\n",
    "    id=20794,\n",
    "    map_response=map_proposicoes\n",
    ")"
   ]
  },
  {
   "cell_type": "code",
   "execution_count": 11,
   "metadata": {},
   "outputs": [
    {
     "data": {
      "text/html": [
       "<div>\n",
       "<style scoped>\n",
       "    .dataframe tbody tr th:only-of-type {\n",
       "        vertical-align: middle;\n",
       "    }\n",
       "\n",
       "    .dataframe tbody tr th {\n",
       "        vertical-align: top;\n",
       "    }\n",
       "\n",
       "    .dataframe thead th {\n",
       "        text-align: right;\n",
       "    }\n",
       "</style>\n",
       "<table border=\"1\" class=\"dataframe\">\n",
       "  <thead>\n",
       "    <tr style=\"text-align: right;\">\n",
       "      <th></th>\n",
       "      <th>id</th>\n",
       "      <th>uri</th>\n",
       "      <th>siglaTipo</th>\n",
       "      <th>idTipo</th>\n",
       "      <th>numero</th>\n",
       "      <th>ano</th>\n",
       "      <th>ementa</th>\n",
       "      <th>dataApresentacao</th>\n",
       "      <th>uriOrgaoNumerador</th>\n",
       "      <th>uriUltimoRelator</th>\n",
       "      <th>...</th>\n",
       "      <th>descricaoTipo</th>\n",
       "      <th>ementaDetalhada</th>\n",
       "      <th>keywords</th>\n",
       "      <th>uriPropPrincipal</th>\n",
       "      <th>uriPropAnterior</th>\n",
       "      <th>uriPropPosterior</th>\n",
       "      <th>urlInteiroTeor</th>\n",
       "      <th>urnFinal</th>\n",
       "      <th>texto</th>\n",
       "      <th>justificativa</th>\n",
       "    </tr>\n",
       "  </thead>\n",
       "  <tbody>\n",
       "    <tr>\n",
       "      <th>0</th>\n",
       "      <td>20794</td>\n",
       "      <td>https://dadosabertos.camara.leg.br/api/v2/prop...</td>\n",
       "      <td>PL</td>\n",
       "      <td>139</td>\n",
       "      <td>4302</td>\n",
       "      <td>1998</td>\n",
       "      <td>Dispõe sobre as relações de trabalho na empres...</td>\n",
       "      <td>1998-03-19T00:00</td>\n",
       "      <td>None</td>\n",
       "      <td>None</td>\n",
       "      <td>...</td>\n",
       "      <td>Projeto de Lei</td>\n",
       "      <td></td>\n",
       "      <td>Alteração, Lei do Trabalho Temporário, empresa...</td>\n",
       "      <td>None</td>\n",
       "      <td>None</td>\n",
       "      <td>None</td>\n",
       "      <td>http://www.camara.gov.br/proposicoesWeb/prop_m...</td>\n",
       "      <td>None</td>\n",
       "      <td>None</td>\n",
       "      <td>None</td>\n",
       "    </tr>\n",
       "  </tbody>\n",
       "</table>\n",
       "<p>1 rows × 32 columns</p>\n",
       "</div>"
      ],
      "text/plain": [
       "      id                                                uri siglaTipo  idTipo  \\\n",
       "0  20794  https://dadosabertos.camara.leg.br/api/v2/prop...        PL     139   \n",
       "\n",
       "   numero   ano                                             ementa  \\\n",
       "0    4302  1998  Dispõe sobre as relações de trabalho na empres...   \n",
       "\n",
       "   dataApresentacao uriOrgaoNumerador uriUltimoRelator      ...       \\\n",
       "0  1998-03-19T00:00              None             None      ...        \n",
       "\n",
       "    descricaoTipo  ementaDetalhada  \\\n",
       "0  Projeto de Lei                    \n",
       "\n",
       "                                            keywords uriPropPrincipal  \\\n",
       "0  Alteração, Lei do Trabalho Temporário, empresa...             None   \n",
       "\n",
       "  uriPropAnterior uriPropPosterior  \\\n",
       "0            None             None   \n",
       "\n",
       "                                      urlInteiroTeor urnFinal  texto  \\\n",
       "0  http://www.camara.gov.br/proposicoesWeb/prop_m...     None   None   \n",
       "\n",
       "  justificativa  \n",
       "0          None  \n",
       "\n",
       "[1 rows x 32 columns]"
      ]
     },
     "execution_count": 11,
     "metadata": {},
     "output_type": "execute_result"
    }
   ],
   "source": [
    "df_i"
   ]
  },
  {
   "cell_type": "code",
   "execution_count": 12,
   "metadata": {},
   "outputs": [
    {
     "data": {
      "text/html": [
       "<div>\n",
       "<style scoped>\n",
       "    .dataframe tbody tr th:only-of-type {\n",
       "        vertical-align: middle;\n",
       "    }\n",
       "\n",
       "    .dataframe tbody tr th {\n",
       "        vertical-align: top;\n",
       "    }\n",
       "\n",
       "    .dataframe thead th {\n",
       "        text-align: right;\n",
       "    }\n",
       "</style>\n",
       "<table border=\"1\" class=\"dataframe\">\n",
       "  <thead>\n",
       "    <tr style=\"text-align: right;\">\n",
       "      <th></th>\n",
       "      <th>id</th>\n",
       "      <th>dataApresentacao</th>\n",
       "      <th>statusProposicao_dataHora</th>\n",
       "      <th>statusProposicao_descricaoTramitacao</th>\n",
       "      <th>statusProposicao_descricaoSituacao</th>\n",
       "      <th>keywords</th>\n",
       "      <th>urlInteiroTeor</th>\n",
       "    </tr>\n",
       "  </thead>\n",
       "  <tbody>\n",
       "    <tr>\n",
       "      <th>0</th>\n",
       "      <td>20794</td>\n",
       "      <td>1998-03-19T00:00</td>\n",
       "      <td>2017-08-01T00:00</td>\n",
       "      <td>Recebimento</td>\n",
       "      <td>Transformado em Norma Jurídica</td>\n",
       "      <td>Alteração, Lei do Trabalho Temporário, empresa...</td>\n",
       "      <td>http://www.camara.gov.br/proposicoesWeb/prop_m...</td>\n",
       "    </tr>\n",
       "  </tbody>\n",
       "</table>\n",
       "</div>"
      ],
      "text/plain": [
       "      id  dataApresentacao statusProposicao_dataHora  \\\n",
       "0  20794  1998-03-19T00:00          2017-08-01T00:00   \n",
       "\n",
       "  statusProposicao_descricaoTramitacao statusProposicao_descricaoSituacao  \\\n",
       "0                          Recebimento     Transformado em Norma Jurídica   \n",
       "\n",
       "                                            keywords  \\\n",
       "0  Alteração, Lei do Trabalho Temporário, empresa...   \n",
       "\n",
       "                                      urlInteiroTeor  \n",
       "0  http://www.camara.gov.br/proposicoesWeb/prop_m...  "
      ]
     },
     "execution_count": 12,
     "metadata": {},
     "output_type": "execute_result"
    }
   ],
   "source": [
    "df_i[[\n",
    "    'id',\n",
    "    'dataApresentacao',\n",
    "    'statusProposicao_dataHora',\n",
    "    'statusProposicao_descricaoTramitacao',\n",
    "    'statusProposicao_descricaoSituacao',\n",
    "    'keywords',\n",
    "    'urlInteiroTeor'\n",
    "]]"
   ]
  },
  {
   "cell_type": "code",
   "execution_count": 13,
   "metadata": {},
   "outputs": [
    {
     "name": "stdout",
     "output_type": "stream",
     "text": [
      "\r",
      "1 de 1"
     ]
    }
   ],
   "source": [
    "dataframe_to_database(\n",
    "    dataframe=df_i,\n",
    "    tabela='camara_proposicao_detalhada',\n",
    "    colunas_tabela=[\n",
    "        'id',\n",
    "        'data_apresentacao',\n",
    "        'data_ultimo_status',\n",
    "        'descricao_tramitacao',\n",
    "        'descricao_situacao',\n",
    "        'keywords',\n",
    "        'url_integra'\n",
    "    ],\n",
    "    colunas_dataframe=[\n",
    "        'id',\n",
    "        'dataApresentacao',\n",
    "        'statusProposicao_dataHora',\n",
    "        'statusProposicao_descricaoTramitacao',\n",
    "        'statusProposicao_descricaoSituacao',\n",
    "        'keywords',\n",
    "        'urlInteiroTeor'\n",
    "    ]\n",
    ")"
   ]
  },
  {
   "cell_type": "markdown",
   "metadata": {},
   "source": [
    "Agora podemos cadstrar no Banco de Dados"
   ]
  },
  {
   "cell_type": "code",
   "execution_count": 14,
   "metadata": {},
   "outputs": [
    {
     "name": "stdout",
     "output_type": "stream",
     "text": [
      "3 de 3"
     ]
    }
   ],
   "source": [
    "df_tema = pd.DataFrame(\n",
    "    data=[{\n",
    "        'id': 3,\n",
    "        'idCategoria': 1,\n",
    "        'titulo': 'Terceirização de Todas as Atividades',\n",
    "        'descricao': 'Fica permitido, a partir de agora, que empresas terceirizem qualquer tipo de mão de obra, inclusive as chamadas atividades fim.',\n",
    "        'origemImprensa': False,\n",
    "        'idProposicaoCamara': 20794,\n",
    "        'idVotacaoProposicaoCamara': 7431,\n",
    "        'idProposicaoSenado': None,\n",
    "        'idVotacaoProposicaoSenado': None,\n",
    "    }],\n",
    "    columns=colunas_dataframe_tema\n",
    ")\n",
    "dataframe_to_database(\n",
    "    dataframe=df_tema,\n",
    "    tabela='tema',\n",
    "    colunas_tabela=colunas_tabela_tema,\n",
    "    colunas_dataframe=colunas_dataframe_tema\n",
    ")\n",
    "\n",
    "df_links = pd.DataFrame(\n",
    "  data=[\n",
    "      {\n",
    "          'idTema': 3,\n",
    "          'titulo': 'Temer sanciona a terceirização. Qual o contexto da decisão - Nexo Jornal',\n",
    "          'url': 'https://www.nexojornal.com.br/expresso/2017/03/31/Temer-sanciona-a-terceiriza%C3%A7%C3%A3o.-Qual-o-contexto-da-decis%C3%A3o',\n",
    "          'shortUrl': 'http://bit.ly/2OWtJI6',\n",
    "      },\n",
    "      {\n",
    "          'idTema': 3,\n",
    "          'titulo': 'G1 - Entenda o projeto de lei da terceirização aprovado na Câmara - notícias em Concursos e Emprego',\n",
    "          'url': 'http://g1.globo.com/concursos-e-emprego/noticia/2015/04/entenda-o-projeto-de-lei-da-terceirizacao-que-sera-votado.html',\n",
    "          'shortUrl': 'https://glo.bo/2LltOCL',\n",
    "      },\n",
    "      {\n",
    "          'idTema': 3,\n",
    "          'titulo': 'Temer sanciona lei de terceirização com pouca proteção a trabalhador - 31/03/2017 - Mercado - Folha de S.Paulo',\n",
    "          'url': 'https://www1.folha.uol.com.br/mercado/2017/03/1871722-para-evitar-retaliacoes-temer-sanciona-proposta-que-regulamenta-a-terceirizacao.shtml',\n",
    "          'shortUrl': 'http://bit.ly/2Mqik6x',\n",
    "      },\n",
    "  ],\n",
    "  columns=colunas_dataframe_tema_link\n",
    ")\n",
    "dataframe_to_database(\n",
    "    dataframe=df_links,\n",
    "    tabela='tema_link',\n",
    "    colunas_tabela=colunas_tabela_tema_link,\n",
    "    colunas_dataframe=colunas_dataframe_tema_link\n",
    ")"
   ]
  },
  {
   "cell_type": "markdown",
   "metadata": {},
   "source": [
    "## Economia - Reforma da Previdência"
   ]
  },
  {
   "cell_type": "code",
   "execution_count": 15,
   "metadata": {},
   "outputs": [
    {
     "name": "stdout",
     "output_type": "stream",
     "text": [
      "3 de 3"
     ]
    }
   ],
   "source": [
    "\n",
    "df_tema = pd.DataFrame(\n",
    "    data=[{\n",
    "        'id': 4,\n",
    "        'idCategoria': 1,\n",
    "        'titulo': 'Reforma da Previdência',\n",
    "        'descricao': 'Projeto acaba com aposentadoria por idade e iguala homens, mulheres e maior parte das categorias profissionais. Pela nova proposta, a idade mínima para se aposentar será de 65 anos, com pelo menos 25 anos de contribuição. A regra passa a ser a mesma para homens e mulheres, sejam empregados da iniciativa privada, professores, servidores públicos ou trabalhadores rurais. Os militares ficaram de fora.',\n",
    "        'origemImprensa': True,\n",
    "        'idProposicaoCamara': None,\n",
    "        'idVotacaoProposicaoCamara': None,\n",
    "        'idProposicaoSenado': None,\n",
    "        'idVotacaoProposicaoSenado': None,\n",
    "    }],\n",
    "    columns=colunas_dataframe_tema\n",
    ")\n",
    "dataframe_to_database(\n",
    "    dataframe=df_tema,\n",
    "    tabela='tema',\n",
    "    colunas_tabela=colunas_tabela_tema,\n",
    "    colunas_dataframe=colunas_dataframe_tema\n",
    ")\n",
    "\n",
    "df_links = pd.DataFrame(\n",
    "  data=[\n",
    "      {\n",
    "          'idTema': 4,\n",
    "          'titulo': 'Veja um resumo com as principais propostas da reforma da Previdência | Gazeta do Povo',\n",
    "          'url': 'https://www.gazetadopovo.com.br/politica/republica/veja-um-resumo-com-as-principais-propostas-da-reforma-da-previdencia-9yljxak6lvdiztlcqrx3t99yo',\n",
    "          'shortUrl': 'http://bit.ly/2P0WZx9',\n",
    "      },\n",
    "      {\n",
    "          'idTema': 4,\n",
    "          'titulo': 'O que muda na aposentadoria? | UOL Economia',\n",
    "          'url': 'https://www.uol/economia/especiais/reforma-da-previdencia.htm#requisitos-para-se-aposentar',\n",
    "          'shortUrl': 'http://bit.ly/2Mqnwr3',\n",
    "      },\n",
    "      {\n",
    "          'idTema': 4,\n",
    "          'titulo': 'O que há na ‘nova reforma da Previdência’ de Temer - Nexo Jornal',\n",
    "          'url': 'https://www.nexojornal.com.br/expresso/2017/11/23/O-que-h%C3%A1-na-%E2%80%98nova-reforma-da-Previd%C3%AAncia%E2%80%99-de-Temer',\n",
    "          'shortUrl': 'http://bit.ly/2o54UhK',\n",
    "      },\n",
    "  ],\n",
    "  columns=colunas_dataframe_tema_link\n",
    ")\n",
    "dataframe_to_database(\n",
    "    dataframe=df_links,\n",
    "    tabela='tema_link',\n",
    "    colunas_tabela=colunas_tabela_tema_link,\n",
    "    colunas_dataframe=colunas_dataframe_tema_link\n",
    ")"
   ]
  },
  {
   "cell_type": "markdown",
   "metadata": {},
   "source": [
    "## Economia - Taxação de Grandes Fortunas"
   ]
  },
  {
   "cell_type": "code",
   "execution_count": 16,
   "metadata": {},
   "outputs": [
    {
     "name": "stdout",
     "output_type": "stream",
     "text": [
      "3 de 3"
     ]
    }
   ],
   "source": [
    "df_tema = pd.DataFrame(\n",
    "    data=[{\n",
    "        'id': 5,\n",
    "        'idCategoria': 1,\n",
    "        'titulo': 'Taxação de Grandes Fortunas',\n",
    "        'descricao': 'Cobrança de impostos sobre grandes fortunas, heranças e doações com o objetivo de aumentar a arrecadação tributária e suprir o déficit que o país vem enfrentando.',\n",
    "        'origemImprensa': True,\n",
    "        'idProposicaoCamara': None,\n",
    "        'idVotacaoProposicaoCamara': None,\n",
    "        'idProposicaoSenado': None,\n",
    "        'idVotacaoProposicaoSenado': None,\n",
    "    }],\n",
    "    columns=colunas_dataframe_tema\n",
    ")\n",
    "dataframe_to_database(\n",
    "    dataframe=df_tema,\n",
    "    tabela='tema',\n",
    "    colunas_tabela=colunas_tabela_tema,\n",
    "    colunas_dataframe=colunas_dataframe_tema\n",
    ")\n",
    "\n",
    "df_links = pd.DataFrame(\n",
    "  data=[\n",
    "      {\n",
    "          'idTema': 5,\n",
    "          'titulo': 'O imposto sobre grandes fortunas e as eleições de 2018',\n",
    "          'url': 'https://politica.estadao.com.br/blogs/fausto-macedo/o-imposto-sobre-grandes-fortunas-e-as-eleicoes-de-2018/',\n",
    "          'shortUrl': 'http://bit.ly/2o3fdml',\n",
    "      },\n",
    "      {\n",
    "          'idTema': 5,\n",
    "          'titulo': 'Cobrar imposto de grandes fortunas dá resultado? Veja casos pelo mundo - Notícias - UOL Economia',\n",
    "          'url': 'https://economia.uol.com.br/noticias/redacao/2018/03/16/imposto-sobre-fortunas-ricos-milionarios-distribuicao-de-renda.htm',\n",
    "          'shortUrl': 'http://bit.ly/2Lp8aO2',\n",
    "      },\n",
    "      {\n",
    "          'idTema': 5,\n",
    "          'titulo': 'Reforma do imposto sobre fortuna na França reacende debate sobre taxação dos mais ricos - BBC News Brasil',\n",
    "          'url': 'https://www.bbc.com/portuguese/internacional-41617305',\n",
    "          'shortUrl': 'https://bbc.in/2MwvqiA',\n",
    "      },\n",
    "  ],\n",
    "  columns=colunas_dataframe_tema_link\n",
    ")\n",
    "dataframe_to_database(\n",
    "    dataframe=df_links,\n",
    "    tabela='tema_link',\n",
    "    colunas_tabela=colunas_tabela_tema_link,\n",
    "    colunas_dataframe=colunas_dataframe_tema_link\n",
    ")"
   ]
  },
  {
   "cell_type": "markdown",
   "metadata": {},
   "source": [
    "## Educação - Reforma do Ensino Médio"
   ]
  },
  {
   "cell_type": "code",
   "execution_count": 17,
   "metadata": {},
   "outputs": [
    {
     "name": "stdout",
     "output_type": "stream",
     "text": [
      "3 de 3"
     ]
    }
   ],
   "source": [
    "df_tema = pd.DataFrame(\n",
    "    data=[{\n",
    "        'id': 6,\n",
    "        'idCategoria': 2,\n",
    "        'titulo': 'Reforma do Ensino Médio',\n",
    "        'descricao': 'O novo modelo permitirá que o estudante escolha a área de conhecimento para aprofundar seus estudos. A nova estrutura terá uma parte que será comum e obrigatória a todas as escolas (Base Nacional Comum Curricular) e outra parte flexível. Com isso, o ensino médio aproximará ainda mais a escola da realidade dos estudantes à luz das novas demandas profissionais do mercado de trabalho.',\n",
    "        'origemImprensa': False,\n",
    "        'idProposicaoCamara': 2112490,\n",
    "        'idVotacaoProposicaoCamara': 7333,\n",
    "        'idProposicaoSenado': None,\n",
    "        'idVotacaoProposicaoSenado': None,\n",
    "    }],\n",
    "    columns=colunas_dataframe_tema\n",
    ")\n",
    "dataframe_to_database(\n",
    "    dataframe=df_tema,\n",
    "    tabela='tema',\n",
    "    colunas_tabela=colunas_tabela_tema,\n",
    "    colunas_dataframe=colunas_dataframe_tema\n",
    ")\n",
    "\n",
    "df_links = pd.DataFrame(\n",
    "  data=[\n",
    "      {\n",
    "          'idTema': 6,\n",
    "          'titulo': 'O que é a reforma do ensino médio?',\n",
    "          'url': 'http://portal.mec.gov.br/component/content/article?id=40361#nem_01',\n",
    "          'shortUrl': 'http://bit.ly/2o3RLFN',\n",
    "      },\n",
    "      {\n",
    "          'idTema': 6,\n",
    "          'titulo': 'Sancionada Lei da Reforma no Ensino Médio - Senado Notícias',\n",
    "          'url': 'https://www12.senado.leg.br/noticias/materias/2017/02/16/sancionada-lei-da-reforma-no-ensino-medio',\n",
    "          'shortUrl': 'http://bit.ly/2wjaCjS',\n",
    "      },\n",
    "      {\n",
    "          'idTema': 6,\n",
    "          'titulo': 'Como é a reforma do ensino médio e quais são as críticas a ela - Nexo Jornal',\n",
    "          'url': 'https://www.nexojornal.com.br/expresso/2016/09/24/Como-%C3%A9-a-reforma-do-ensino-m%C3%A9dio-e-quais-s%C3%A3o-as-cr%C3%ADticas-a-ela',\n",
    "          'shortUrl': 'http://bit.ly/2w22chp',\n",
    "      },\n",
    "  ],\n",
    "  columns=colunas_dataframe_tema_link\n",
    ")\n",
    "dataframe_to_database(\n",
    "    dataframe=df_links,\n",
    "    tabela='tema_link',\n",
    "    colunas_tabela=colunas_tabela_tema_link,\n",
    "    colunas_dataframe=colunas_dataframe_tema_link\n",
    ")"
   ]
  },
  {
   "cell_type": "markdown",
   "metadata": {},
   "source": [
    "## Educação - Cobrança por Cursos de Especialização em Universidades Públicas"
   ]
  },
  {
   "cell_type": "code",
   "execution_count": 19,
   "metadata": {},
   "outputs": [
    {
     "name": "stdout",
     "output_type": "stream",
     "text": [
      "3 de 3"
     ]
    }
   ],
   "source": [
    "df_tema = pd.DataFrame(\n",
    "    data=[{\n",
    "        'id': 7,\n",
    "        'idCategoria': 7,\n",
    "        'titulo': 'Cobrança por Cursos de Especialização em Universidades Públicas',\n",
    "        'descricao': 'Permite que universidade pública cobre mensalidade em cursos de especialização (pós-graduação lato sensu).',\n",
    "        'origemImprensa': False,\n",
    "        'idProposicaoCamara': 611966,\n",
    "        'idVotacaoProposicaoCamara': 7448,\n",
    "        'idProposicaoSenado': None,\n",
    "        'idVotacaoProposicaoSenado': None,\n",
    "    }],\n",
    "    columns=colunas_dataframe_tema\n",
    ")\n",
    "dataframe_to_database(\n",
    "    dataframe=df_tema,\n",
    "    tabela='tema',\n",
    "    colunas_tabela=colunas_tabela_tema,\n",
    "    colunas_dataframe=colunas_dataframe_tema\n",
    ")\n",
    "\n",
    "df_links = pd.DataFrame(\n",
    "  data=[\n",
    "      {\n",
    "          'idTema': 7,\n",
    "          'titulo': 'A pós-graduação paga e a finalidade das universidades públicas - Nexo Jornal',\n",
    "          'url': 'https://www.nexojornal.com.br/expresso/2017/04/29/A-p%C3%B3s-gradua%C3%A7%C3%A3o-paga-e-a-finalidade-das-universidades-p%C3%BAblicas',\n",
    "          'shortUrl': 'http://bit.ly/2wkRrWO',\n",
    "      },\n",
    "      {\n",
    "          'idTema': 7,\n",
    "          'titulo': 'Cobrança de pós-graduação em universidades públicas está na pauta de abril do STF | Educação | G1',\n",
    "          'url': 'https://g1.globo.com/educacao/noticia/cobranca-de-pos-graduacao-em-universidades-publicas-esta-na-pauta-de-abril-do-stf.ghtml',\n",
    "          'shortUrl': 'https://glo.bo/2MNU0ei',\n",
    "      },\n",
    "      {\n",
    "          'idTema': 7,\n",
    "          'titulo': 'Universidades públicas podem cobrar por curso de especialização - ConJur',\n",
    "          'url': 'https://www.conjur.com.br/2017-abr-26/universidades-publicas-podem-cobrar-curso-especializacao',\n",
    "          'shortUrl': 'http://bit.ly/2w4IzFm',\n",
    "      },\n",
    "  ],\n",
    "  columns=colunas_dataframe_tema_link\n",
    ")\n",
    "dataframe_to_database(\n",
    "    dataframe=df_links,\n",
    "    tabela='tema_link',\n",
    "    colunas_tabela=colunas_tabela_tema_link,\n",
    "    colunas_dataframe=colunas_dataframe_tema_link\n",
    ")"
   ]
  },
  {
   "cell_type": "markdown",
   "metadata": {},
   "source": [
    "## Educação - Cotas em Universidades Públicas"
   ]
  },
  {
   "cell_type": "code",
   "execution_count": 20,
   "metadata": {},
   "outputs": [
    {
     "name": "stdout",
     "output_type": "stream",
     "text": [
      "3 de 3"
     ]
    }
   ],
   "source": [
    "df_tema = pd.DataFrame(\n",
    "    data=[{\n",
    "        'id': 8,\n",
    "        'idCategoria': 7,\n",
    "        'titulo': 'Cotas em Universidades Públicas',\n",
    "        'descricao': 'Garante a reserva de 50% das matrículas por curso e turno nas 59 universidades federais e 38 institutos federais de educação, ciência e tecnologia a alunos oriundos integralmente do ensino médio público, em cursos regulares ou da educação de jovens e adultos. Os demais 50% das vagas permanecem para ampla concorrência.',\n",
    "#         'origemImprensa': False,\n",
    "        'origemImprensa': True,\n",
    "#         'idProposicaoCamara': 15013,\n",
    "        'idProposicaoCamara': None,\n",
    "        'idVotacaoProposicaoCamara': None,\n",
    "        'idProposicaoSenado': None,\n",
    "        'idVotacaoProposicaoSenado': None,\n",
    "    }],\n",
    "    columns=colunas_dataframe_tema\n",
    ")\n",
    "dataframe_to_database(\n",
    "    dataframe=df_tema,\n",
    "    tabela='tema',\n",
    "    colunas_tabela=colunas_tabela_tema,\n",
    "    colunas_dataframe=colunas_dataframe_tema\n",
    ")\n",
    "\n",
    "df_links = pd.DataFrame(\n",
    "  data=[\n",
    "      {\n",
    "          'idTema': 8,\n",
    "          'titulo': 'Lei de Cotas para o Ensino Superior - MEC',\n",
    "          'url': 'http://portal.mec.gov.br/cotas/perguntas-frequentes.html',\n",
    "          'shortUrl': 'http://bit.ly/2N8x9XB',\n",
    "      },\n",
    "      {\n",
    "          'idTema': 8,\n",
    "          'titulo': 'Cotas nas Universidades Públicas - Jusbrasil',\n",
    "          'url': 'https://victorrigueti.jusbrasil.com.br/artigos/201308434/cotas-nas-universidades-publicas',\n",
    "          'shortUrl': 'http://bit.ly/2P0rUK1',\n",
    "      },\n",
    "      {\n",
    "          'idTema': 8,\n",
    "          'titulo': 'STF decide por unanimidade que sistema de cotas em universidades públicas é constitucional | Guia do Estudante',\n",
    "          'url': 'https://guiadoestudante.abril.com.br/universidades/stf-decide-por-unanimidade-que-sistema-de-cotas-em-universidades-publicas-e-constitucional/',\n",
    "          'shortUrl': 'https://abr.ai/2P4JzR9',\n",
    "      },\n",
    "  ],\n",
    "  columns=colunas_dataframe_tema_link\n",
    ")\n",
    "dataframe_to_database(\n",
    "    dataframe=df_links,\n",
    "    tabela='tema_link',\n",
    "    colunas_tabela=colunas_tabela_tema_link,\n",
    "    colunas_dataframe=colunas_dataframe_tema_link\n",
    ")"
   ]
  },
  {
   "cell_type": "markdown",
   "metadata": {},
   "source": [
    "## Energia - Isenção fiscal a petroleiras estrangeiras"
   ]
  },
  {
   "cell_type": "code",
   "execution_count": 22,
   "metadata": {},
   "outputs": [
    {
     "name": "stdout",
     "output_type": "stream",
     "text": [
      "3 de 3"
     ]
    }
   ],
   "source": [
    "df_tema = pd.DataFrame(\n",
    "    data=[{\n",
    "        'id': 9,\n",
    "        'idCategoria': 2,\n",
    "        'titulo': 'Isenção fiscal a petroleiras estrangeiras',\n",
    "        'descricao': 'Concede benefícios fiscais a empresas petrolíferas que atuarão em blocos das camadas pré-sal e pós-sal.',\n",
    "        'origemImprensa': False,\n",
    "        'idProposicaoCamara': 2148437,\n",
    "        'idVotacaoProposicaoCamara': 8077,\n",
    "        'idProposicaoSenado': None,\n",
    "        'idVotacaoProposicaoSenado': None,\n",
    "    }],\n",
    "    columns=colunas_dataframe_tema\n",
    ")\n",
    "dataframe_to_database(\n",
    "    dataframe=df_tema,\n",
    "    tabela='tema',\n",
    "    colunas_tabela=colunas_tabela_tema,\n",
    "    colunas_dataframe=colunas_dataframe_tema\n",
    ")\n",
    "\n",
    "df_links = pd.DataFrame(\n",
    "  data=[\n",
    "      {\n",
    "          'idTema': 9,\n",
    "          'titulo': 'O que diz quem é a favor e quem é contra a MP que beneficia petroleiras - Nexo Jornal',\n",
    "          'url': 'https://www.nexojornal.com.br/expresso/2017/12/06/O-que-diz-quem-%C3%A9-a-favor-e-quem-%C3%A9-contra-a-MP-que-beneficia-petroleiras',\n",
    "          'shortUrl': 'http://bit.ly/2MRaGle',\n",
    "      },\n",
    "      {\n",
    "          'idTema': 9,\n",
    "          'titulo': 'Câmara aprova medida que concede isenção de impostos para petrolíferas estrangeiras | Congresso em Foco',\n",
    "          'url': 'https://congressoemfoco.uol.com.br/especial/noticias/camara-aprova-medida-que-concede-isencao-de-impostos-para-petroliferas-estrangeiras/',\n",
    "          'shortUrl': 'http://bit.ly/2o2Fp0n',\n",
    "      },\n",
    "      {\n",
    "          'idTema': 9,\n",
    "          'titulo': 'Câmara aprova projeto que reduz imposto de petroleiras - 13/12/2017 - Mercado - Folha de S.Paulo',\n",
    "          'url': 'https://www1.folha.uol.com.br/mercado/2017/12/1943175-em-clima-de-fim-de-ano-camara-vota-repetro-e-capitalizacao-da-caixa.shtml',\n",
    "          'shortUrl': 'http://bit.ly/2P0uyiV',\n",
    "      },\n",
    "  ],\n",
    "  columns=colunas_dataframe_tema_link\n",
    ")\n",
    "dataframe_to_database(\n",
    "    dataframe=df_links,\n",
    "    tabela='tema_link',\n",
    "    colunas_tabela=colunas_tabela_tema_link,\n",
    "    colunas_dataframe=colunas_dataframe_tema_link\n",
    ")"
   ]
  }
 ],
 "metadata": {
  "kernelspec": {
   "display_name": "Python 3",
   "language": "python",
   "name": "python3"
  },
  "language_info": {
   "codemirror_mode": {
    "name": "ipython",
    "version": 3
   },
   "file_extension": ".py",
   "mimetype": "text/x-python",
   "name": "python",
   "nbconvert_exporter": "python",
   "pygments_lexer": "ipython3",
   "version": "3.6.5"
  }
 },
 "nbformat": 4,
 "nbformat_minor": 2
}
