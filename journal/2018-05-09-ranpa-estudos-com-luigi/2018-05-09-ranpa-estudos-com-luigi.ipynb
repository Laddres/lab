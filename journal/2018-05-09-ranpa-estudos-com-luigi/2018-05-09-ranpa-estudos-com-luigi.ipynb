{
 "cells": [
  {
   "cell_type": "markdown",
   "metadata": {},
   "source": [
    "# 09 maio 2018\n",
    "\n",
    "O objetivo de hoje é aprendar a usar o Luigi para implementar o conceito de pipeline no projeto do Laddres"
   ]
  },
  {
   "cell_type": "markdown",
   "metadata": {},
   "source": [
    "## Documentação do Luigi\n",
    "\n",
    "Primeiro exemplo usando o tutorial do vídeo [Hunter Owens | Building Your First Data Pipelines](https://www.youtube.com/watch?v=TYtHzvys33A)\n",
    "\n",
    "`example.py`\n",
    "\n",
    "Depois reproduzimos o exemplo da [documentação do Luigi](https://luigi.readthedocs.io/en/stable/example_top_artists.html)\n",
    "\n",
    "`top_artists.py`"
   ]
  }
 ],
 "metadata": {
  "kernelspec": {
   "display_name": "Python 3",
   "language": "python",
   "name": "python3"
  },
  "language_info": {
   "codemirror_mode": {
    "name": "ipython",
    "version": 3
   },
   "file_extension": ".py",
   "mimetype": "text/x-python",
   "name": "python",
   "nbconvert_exporter": "python",
   "pygments_lexer": "ipython3",
   "version": "3.6.5"
  }
 },
 "nbformat": 4,
 "nbformat_minor": 2
}
