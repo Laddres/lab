{
 "cells": [
  {
   "cell_type": "markdown",
   "metadata": {},
   "source": [
    "# 19 jul 2018\n",
    "\n",
    "Este journal servirá como registro de como criar uma nova máquina no servidor da Digital Ocean e adicionar um middleware de log de requisições ao NGINX"
   ]
  },
  {
   "cell_type": "markdown",
   "metadata": {},
   "source": [
    "## Sumário\n",
    "\n",
    "- Instalar e configurar o ubuntu 18.04\n",
    "- Instalar e configurar node\n",
    "- Instalar e configurar mysql\n",
    "- Instalar e configurar nginx"
   ]
  },
  {
   "cell_type": "markdown",
   "metadata": {},
   "source": [
    "## Instalar e configurar Ubuntu 18.04\n",
    "\n",
    "https://www.digitalocean.com/community/tutorials/configuracao-inicial-de-servidor-com-ubuntu-18-04-pt\n",
    "\n",
    "- Alterar senha do root\n",
    "- Criar novo usuário\n",
    "- Ativar firewall\n",
    "\n",
    "---\n",
    "\n",
    "https://www.digitalocean.com/community/tutorials/how-to-set-up-ssh-keys-on-ubuntu-1804\n",
    "\n",
    "- Setar chaves de segurança SSH"
   ]
  },
  {
   "cell_type": "markdown",
   "metadata": {},
   "source": [
    "## Instalar e configurar o Nginx\n",
    "\n",
    "https://www.digitalocean.com/community/tutorials/how-to-install-nginx-on-ubuntu-18-04\n",
    "\n",
    "- Instalar nginx\n",
    "- Habilitar portas no firewall\n",
    "- Configurar Server Blocks\n",
    "\n",
    "---\n",
    "\n",
    "https://www.digitalocean.com/community/tutorials/how-to-add-the-log-module-to-nginx-on-ubuntu-16-04\n",
    "\n",
    "- Utilizar módulo de log\n",
    "- Configurar log separado por domínio\n",
    "- Configurar log personalizado\n",
    "\n",
    "https://www.digitalocean.com/community/tutorials/how-to-configure-logging-and-log-rotation-in-nginx-on-an-ubuntu-vps\n",
    "\n",
    "- Logs anteriores\n",
    "\n",
    "---\n",
    "\n",
    "https://www.digitalocean.com/community/tutorials/how-to-secure-nginx-with-let-s-encrypt-on-ubuntu-18-04\n",
    "\n",
    "- Instalar e configurar Let's Encrypt"
   ]
  },
  {
   "cell_type": "markdown",
   "metadata": {},
   "source": [
    "## Instalar e configurar NodeJS/npm/yarn\n",
    "\n",
    "https://www.digitalocean.com/community/tutorials/how-to-set-up-a-node-js-application-for-production-on-ubuntu-18-04\n",
    "\n",
    "- Instalar node.js\n",
    "- Instalar pm2\n",
    "- Adicionar processo ao pm2\n",
    "- Salvar lista de processos no pm2\n",
    "\n",
    "---\n",
    "\n",
    "https://yarnpkg.com/lang/en/docs/install/#debian-stable\n",
    "\n",
    "- Instalar o Yarn"
   ]
  },
  {
   "cell_type": "markdown",
   "metadata": {},
   "source": [
    "## Instalar MySQL\n",
    "\n",
    "https://www.digitalocean.com/community/tutorials/how-to-install-the-latest-mysql-on-ubuntu-18-04\n",
    "\n",
    "- Adicionar repositório ao ubuntu\n",
    "- Instalar mysql\n",
    "\n",
    "---\n",
    "\n",
    "https://www.digitalocean.com/community/tutorials/como-criar-um-novo-usuario-e-conceder-permissoes-no-mysql-pt\n",
    "\n",
    "- Configurar usuários\n",
    "\n",
    "---\n",
    "\n",
    "https://www.digitalocean.com/community/tutorials/how-to-migrate-a-mysql-database-between-two-servers\n",
    "\n",
    "- Importar banco de dados\n",
    "\n",
    "---\n",
    "\n",
    "https://www.digitalocean.com/community/tutorials/how-to-set-up-a-remote-database-to-optimize-site-performance-with-mysql\n",
    "\n",
    "- Permitir acesso remoto ao banco de dados"
   ]
  }
 ],
 "metadata": {
  "kernelspec": {
   "display_name": "Python 3",
   "language": "python",
   "name": "python3"
  },
  "language_info": {
   "codemirror_mode": {
    "name": "ipython",
    "version": 3
   },
   "file_extension": ".py",
   "mimetype": "text/x-python",
   "name": "python",
   "nbconvert_exporter": "python",
   "pygments_lexer": "ipython3",
   "version": "3.6.5"
  }
 },
 "nbformat": 4,
 "nbformat_minor": 2
}
