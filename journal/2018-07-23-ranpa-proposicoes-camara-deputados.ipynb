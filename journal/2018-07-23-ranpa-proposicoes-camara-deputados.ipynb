{
 "cells": [
  {
   "cell_type": "markdown",
   "metadata": {},
   "source": [
    "# 23 jun 2018\n",
    "\n",
    "O objetivo é cruzar a posição de candidatos e tópicos polêmicos.\n",
    "\n",
    "**Tópicos Polêmicos**\n",
    "\n",
    "Optaremos por buscar manualmente os tópicos mais polêmicos dos últimos 10 anos.\n",
    "\n",
    "**Posição dos Candidatos**\n",
    "\n",
    "Para descobrirmos a posição dos deputados em relação aos tópicos listados, vamos buscar como cada um deles votou em relação ao tema e os resultados dos buscadores que correlacionam o candidato à palavra-chave citada."
   ]
  },
  {
   "cell_type": "markdown",
   "metadata": {},
   "source": [
    "## Agrotóxicos\n",
    "\n",
    "**PL 6299/02**\n",
    "\n",
    "[O projeto que promove alterações na legislação sobre uso de agrotóxicos ou pesticidas](https://congressoemfoco.uol.com.br/especial/noticias/veja-como-cada-deputado-votou-no-projeto-que-facilita-o-uso-de-agrotoxicos/)"
   ]
  },
  {
   "cell_type": "code",
   "execution_count": 1,
   "metadata": {},
   "outputs": [
    {
     "data": {
      "text/plain": [
       "{'id': 46249,\n",
       " 'uri': 'https://dadosabertos.camara.leg.br/api/v2/proposicoes/46249',\n",
       " 'siglaTipo': 'PL',\n",
       " 'idTipo': 139,\n",
       " 'numero': 6299,\n",
       " 'ano': 2002,\n",
       " 'ementa': 'Altera os arts 3º e 9º da Lei nº 7.802, de 11 de julho de 1989, que dispõe sobre a pesquisa, a experimentação, a produção, a embalagem e rotulagem, o transporte, o armazenamento, a comercialização, a propaganda comercial, a utilização, a importação, a exportação, o destino final dos resíduos e embalagens, o registro, a classificação, o controle, a inspeção e a fiscalização de agrotóxicos, seus componentes e afins, e dá outras providências.',\n",
       " 'dataApresentacao': '2002-03-13T00:00',\n",
       " 'uriOrgaoNumerador': None,\n",
       " 'uriUltimoRelator': None,\n",
       " 'statusProposicao': {'dataHora': '2018-07-10T00:00',\n",
       "  'sequencia': 254,\n",
       "  'siglaOrgao': 'CCP',\n",
       "  'uriOrgao': 'https://dadosabertos.camara.leg.br/api/v2/orgaos/186',\n",
       "  'regime': 'Prioridade (Art. 151, II, RICD)',\n",
       "  'descricaoTramitacao': 'Notificações',\n",
       "  'idTipoTramitacao': '1005',\n",
       "  'descricaoSituacao': 'Pronta para Pauta',\n",
       "  'idSituacao': 924,\n",
       "  'despacho': 'Anexada ao processado manifestação de profissionais de Ouro Fino/MG, contrarios à aprovação do PL 6299/02.',\n",
       "  'url': 'http://www.camara.gov.br/proposicoesWeb/prop_mostrarintegra?codteor=1672866'},\n",
       " 'uriAutores': 'https://dadosabertos.camara.leg.br/api/v2/proposicoes/46249/autores',\n",
       " 'descricaoTipo': 'Projeto de Lei',\n",
       " 'ementaDetalhada': None,\n",
       " 'keywords': 'Alteração, Lei dos Agrotóxicos, exigência, registro, princípio ativo, defensivo agrícola,   competência, União Federal, legislação, destruição, embalagem, agrotóxico.',\n",
       " 'uriPropPrincipal': None,\n",
       " 'uriPropAnterior': None,\n",
       " 'uriPropPosterior': None,\n",
       " 'urlInteiroTeor': 'http://www.camara.gov.br/proposicoesWeb/prop_mostrarintegra?codteor=1672866',\n",
       " 'urnFinal': None,\n",
       " 'texto': None,\n",
       " 'justificativa': None}"
      ]
     },
     "execution_count": 1,
     "metadata": {},
     "output_type": "execute_result"
    }
   ],
   "source": [
    "import requests\n",
    "\n",
    "url = 'https://dadosabertos.camara.leg.br/api/v2/proposicoes/46249'\n",
    "\n",
    "request = requests.get(url)\n",
    "\n",
    "response = request.json()['dados']\n",
    "\n",
    "response"
   ]
  }
 ],
 "metadata": {
  "kernelspec": {
   "display_name": "Python 3",
   "language": "python",
   "name": "python3"
  },
  "language_info": {
   "codemirror_mode": {
    "name": "ipython",
    "version": 3
   },
   "file_extension": ".py",
   "mimetype": "text/x-python",
   "name": "python",
   "nbconvert_exporter": "python",
   "pygments_lexer": "ipython3",
   "version": "3.6.5"
  }
 },
 "nbformat": 4,
 "nbformat_minor": 2
}
