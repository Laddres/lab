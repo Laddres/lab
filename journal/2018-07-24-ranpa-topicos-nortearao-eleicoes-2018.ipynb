{
 "cells": [
  {
   "cell_type": "markdown",
   "metadata": {},
   "source": [
    "# 24 jul 2018\n",
    "\n",
    "Objetivos:\n",
    "\n",
    "- [x] Definir tópicos que podem nortear as eleições 2018\n",
    "- [] Buscar proposições que foram votadas e abordem os temas listados na atividade anterior\n",
    "- [] Buscar as votações que definiram a aprovação (ou não) destas proposições\n",
    "- [] Buscar os votos de cada um dos votantes"
   ]
  },
  {
   "cell_type": "markdown",
   "metadata": {},
   "source": [
    "## Tópicos\n",
    "\n",
    "- Segurança\n",
    "  - Porte de Armas / Desarmamento\n",
    "  - Maioridade Penal\n",
    "  - Drogas\n",
    "- Educação\n",
    "  - Reforma do Ensino Médio\n",
    "  - Cobrança por Cursos de Pós-Graduação\n",
    "- Política\n",
    "  - Impeachment de Dilma Rousseff\n",
    "  - Denúncia Contra Michel Temer\n",
    "- Reformas\n",
    "  - Reforma Trabalhista\n",
    "  - Terceirização de Todas as Atividades\n",
    "  - Reforma da Previcência\n",
    "- Economia\n",
    "  - Privatização da Petrobras\n",
    "  - Congelamento de Gastos Públicos\n",
    "  - Recuperação Fiscal dos Estados\n",
    "- Costumes\n",
    "  - Aborto\n",
    "  - União Entre Pessoas do Mesmo Sexo (Casamento Gay)"
   ]
  },
  {
   "cell_type": "code",
   "execution_count": null,
   "metadata": {},
   "outputs": [],
   "source": []
  }
 ],
 "metadata": {
  "kernelspec": {
   "display_name": "Python 3",
   "language": "python",
   "name": "python3"
  },
  "language_info": {
   "codemirror_mode": {
    "name": "ipython",
    "version": 3
   },
   "file_extension": ".py",
   "mimetype": "text/x-python",
   "name": "python",
   "nbconvert_exporter": "python",
   "pygments_lexer": "ipython3",
   "version": "3.6.5"
  }
 },
 "nbformat": 4,
 "nbformat_minor": 2
}
