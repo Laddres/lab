{
 "cells": [
  {
   "cell_type": "markdown",
   "metadata": {},
   "source": [
    "# 20 ago 2018\n",
    "\n",
    "Preencher dados sobre posicionamento dos candidatos a presidente"
   ]
  },
  {
   "cell_type": "code",
   "execution_count": 6,
   "metadata": {},
   "outputs": [],
   "source": [
    "import pandas as pd\n",
    "import numpy as np"
   ]
  },
  {
   "cell_type": "markdown",
   "metadata": {},
   "source": [
    "## Categorias"
   ]
  },
  {
   "cell_type": "code",
   "execution_count": 39,
   "metadata": {
    "scrolled": false
   },
   "outputs": [
    {
     "data": {
      "text/html": [
       "<div>\n",
       "<style scoped>\n",
       "    .dataframe tbody tr th:only-of-type {\n",
       "        vertical-align: middle;\n",
       "    }\n",
       "\n",
       "    .dataframe tbody tr th {\n",
       "        vertical-align: top;\n",
       "    }\n",
       "\n",
       "    .dataframe thead th {\n",
       "        text-align: right;\n",
       "    }\n",
       "</style>\n",
       "<table border=\"1\" class=\"dataframe\">\n",
       "  <thead>\n",
       "    <tr style=\"text-align: right;\">\n",
       "      <th></th>\n",
       "      <th>id</th>\n",
       "      <th>titulo</th>\n",
       "    </tr>\n",
       "  </thead>\n",
       "  <tbody>\n",
       "    <tr>\n",
       "      <th>0</th>\n",
       "      <td>1</td>\n",
       "      <td>Economia</td>\n",
       "    </tr>\n",
       "    <tr>\n",
       "      <th>1</th>\n",
       "      <td>2</td>\n",
       "      <td>Energia</td>\n",
       "    </tr>\n",
       "    <tr>\n",
       "      <th>2</th>\n",
       "      <td>3</td>\n",
       "      <td>Proteção Social</td>\n",
       "    </tr>\n",
       "    <tr>\n",
       "      <th>3</th>\n",
       "      <td>4</td>\n",
       "      <td>Costumes</td>\n",
       "    </tr>\n",
       "    <tr>\n",
       "      <th>4</th>\n",
       "      <td>5</td>\n",
       "      <td>Segurança</td>\n",
       "    </tr>\n",
       "    <tr>\n",
       "      <th>5</th>\n",
       "      <td>6</td>\n",
       "      <td>Democracia</td>\n",
       "    </tr>\n",
       "  </tbody>\n",
       "</table>\n",
       "</div>"
      ],
      "text/plain": [
       "   id           titulo\n",
       "0   1         Economia\n",
       "1   2          Energia\n",
       "2   3  Proteção Social\n",
       "3   4         Costumes\n",
       "4   5        Segurança\n",
       "5   6       Democracia"
      ]
     },
     "execution_count": 39,
     "metadata": {},
     "output_type": "execute_result"
    }
   ],
   "source": [
    "columns = [\n",
    "    'id',\n",
    "    'titulo'\n",
    "]\n",
    "data = [\n",
    "    { 'id': 1, 'titulo': 'Economia' },\n",
    "    { 'id': 2, 'titulo': 'Energia' },\n",
    "    { 'id': 3, 'titulo': 'Proteção Social' },\n",
    "    { 'id': 4, 'titulo': 'Costumes' },\n",
    "    { 'id': 5, 'titulo': 'Segurança' },\n",
    "    { 'id': 6, 'titulo': 'Democracia' },\n",
    "]\n",
    "\n",
    "df_categorias = pd.DataFrame(data=data, columns=columns)\n",
    "\n",
    "df_categorias"
   ]
  },
  {
   "cell_type": "markdown",
   "metadata": {},
   "source": [
    "## Temas"
   ]
  },
  {
   "cell_type": "code",
   "execution_count": 44,
   "metadata": {},
   "outputs": [
    {
     "data": {
      "text/html": [
       "<div>\n",
       "<style scoped>\n",
       "    .dataframe tbody tr th:only-of-type {\n",
       "        vertical-align: middle;\n",
       "    }\n",
       "\n",
       "    .dataframe tbody tr th {\n",
       "        vertical-align: top;\n",
       "    }\n",
       "\n",
       "    .dataframe thead th {\n",
       "        text-align: right;\n",
       "    }\n",
       "</style>\n",
       "<table border=\"1\" class=\"dataframe\">\n",
       "  <thead>\n",
       "    <tr style=\"text-align: right;\">\n",
       "      <th></th>\n",
       "      <th>id</th>\n",
       "      <th>idCategoria</th>\n",
       "      <th>titulo</th>\n",
       "      <th>descricao</th>\n",
       "      <th>urlDetalhes</th>\n",
       "      <th>origemImprensa</th>\n",
       "      <th>IdProposicaoCamara</th>\n",
       "      <th>IdVotacaoProposicaoCamara</th>\n",
       "      <th>IdProposicaoSenado</th>\n",
       "      <th>IdVotacaoProposicaoSenado</th>\n",
       "    </tr>\n",
       "  </thead>\n",
       "  <tbody>\n",
       "  </tbody>\n",
       "</table>\n",
       "</div>"
      ],
      "text/plain": [
       "Empty DataFrame\n",
       "Columns: [id, idCategoria, titulo, descricao, urlDetalhes, origemImprensa, IdProposicaoCamara, IdVotacaoProposicaoCamara, IdProposicaoSenado, IdVotacaoProposicaoSenado]\n",
       "Index: []"
      ]
     },
     "execution_count": 44,
     "metadata": {},
     "output_type": "execute_result"
    }
   ],
   "source": [
    "columns = [\n",
    "    'id',\n",
    "    'idCategoria',\n",
    "    'titulo',\n",
    "    'descricao',\n",
    "    'urlDetalhes',\n",
    "    'origemImprensa',\n",
    "    'IdProposicaoCamara',\n",
    "    'IdVotacaoProposicaoCamara',\n",
    "    'IdProposicaoSenado',\n",
    "    'IdVotacaoProposicaoSenado'\n",
    "]\n",
    "\n",
    "df_temas = pd.DataFrame(columns=columns)\n",
    "\n",
    "df_temas\n",
    "\n",
    "# df_temas = df_temas.append({\n",
    "#     'id': 1,\n",
    "#     'idCategoria': 1,\n",
    "#     'titulo': 'hellow world',\n",
    "#     'descricao': 'blabla',\n",
    "#     'urlDetalhes': 'https',\n",
    "#     'origemImprensa': False,\n",
    "#     'IdProposicaoCamara': 183,\n",
    "#     'IdVotacaoProposicaoCamara': 56987,\n",
    "#     'IdProposicaoSenado': None,\n",
    "#     'IdVotacaoProposicaoSenado': None,\n",
    "# }, ignore_index=True)\n",
    "\n",
    "# df_temas"
   ]
  },
  {
   "cell_type": "markdown",
   "metadata": {},
   "source": [
    "### Economia - Congelamento dos Gastos em Serviços Públicos (PEC doTeto)\n",
    "\n",
    "Links:\n",
    "\n",
    "- https://www.nexojornal.com.br/expresso/2016/10/09/O-que-%C3%A9-e-quais-s%C3%A3o-os-impactos-da-proposta-do-governo-para-congelar-o-gasto-p%C3%BAblico\n",
    "\n",
    "- https://brasil.elpais.com/brasil/2016/10/10/politica/1476125574_221053.html\n",
    "\n",
    "- http://especiais.g1.globo.com/economia/2016/pec241-umtetoparaosgastospblicos/\n"
   ]
  },
  {
   "cell_type": "code",
   "execution_count": 45,
   "metadata": {},
   "outputs": [
    {
     "data": {
      "text/html": [
       "<div>\n",
       "<style scoped>\n",
       "    .dataframe tbody tr th:only-of-type {\n",
       "        vertical-align: middle;\n",
       "    }\n",
       "\n",
       "    .dataframe tbody tr th {\n",
       "        vertical-align: top;\n",
       "    }\n",
       "\n",
       "    .dataframe thead th {\n",
       "        text-align: right;\n",
       "    }\n",
       "</style>\n",
       "<table border=\"1\" class=\"dataframe\">\n",
       "  <thead>\n",
       "    <tr style=\"text-align: right;\">\n",
       "      <th></th>\n",
       "      <th>id</th>\n",
       "      <th>idCategoria</th>\n",
       "      <th>titulo</th>\n",
       "      <th>descricao</th>\n",
       "      <th>urlDetalhes</th>\n",
       "      <th>origemImprensa</th>\n",
       "      <th>IdProposicaoCamara</th>\n",
       "      <th>IdVotacaoProposicaoCamara</th>\n",
       "      <th>IdProposicaoSenado</th>\n",
       "      <th>IdVotacaoProposicaoSenado</th>\n",
       "    </tr>\n",
       "  </thead>\n",
       "  <tbody>\n",
       "    <tr>\n",
       "      <th>0</th>\n",
       "      <td>1</td>\n",
       "      <td>1</td>\n",
       "      <td>Congelamento dos Gastos em Serviços Públicos (...</td>\n",
       "      <td>A proposta do atual governo é estabelecer uma ...</td>\n",
       "      <td>https://www.nexojornal.com.br/expresso/2016/10...</td>\n",
       "      <td>False</td>\n",
       "      <td>2088351</td>\n",
       "      <td>7252</td>\n",
       "      <td>None</td>\n",
       "      <td>None</td>\n",
       "    </tr>\n",
       "  </tbody>\n",
       "</table>\n",
       "</div>"
      ],
      "text/plain": [
       "  id idCategoria                                             titulo  \\\n",
       "0  1           1  Congelamento dos Gastos em Serviços Públicos (...   \n",
       "\n",
       "                                           descricao  \\\n",
       "0  A proposta do atual governo é estabelecer uma ...   \n",
       "\n",
       "                                         urlDetalhes origemImprensa  \\\n",
       "0  https://www.nexojornal.com.br/expresso/2016/10...          False   \n",
       "\n",
       "  IdProposicaoCamara IdVotacaoProposicaoCamara IdProposicaoSenado  \\\n",
       "0            2088351                      7252               None   \n",
       "\n",
       "  IdVotacaoProposicaoSenado  \n",
       "0                      None  "
      ]
     },
     "execution_count": 45,
     "metadata": {},
     "output_type": "execute_result"
    }
   ],
   "source": [
    "df_temas = df_temas.append({\n",
    "    'id': 1,\n",
    "    'idCategoria': 1,\n",
    "    'titulo': 'Congelamento dos Gastos em Serviços Públicos (PEC do Teto)',\n",
    "    'descricao': 'A proposta do atual governo é estabelecer uma regra para congelar o valor total das despesas públicas primárias federais nos próximos 20 anos, mantendo o valor real de 2016. A ideia é que os recursos mínimos de áreas como educação e saúde cresçam em função da inflação (mantendo o valor real deste ano) e não mais variem conforme a receita (como é a regra vigente). Gastos de outras áreas seriam reduzidos. Isso significa que retornando o crescimento econômico, em 2 ou 3 anos, ficará mantido o valor mínimo de gastos estabelecido em 2016, nas áreas de saúde e educação.',\n",
    "    'urlDetalhes': 'https://www.nexojornal.com.br/expresso/2016/10/09/O-que-%C3%A9-e-quais-s%C3%A3o-os-impactos-da-proposta-do-governo-para-congelar-o-gasto-p%C3%BAblico;https://brasil.elpais.com/brasil/2016/10/10/politica/1476125574_221053.html;http://especiais.g1.globo.com/economia/2016/pec241-umtetoparaosgastospblicos/',\n",
    "    'origemImprensa': False,\n",
    "    'IdProposicaoCamara': 2088351,\n",
    "    'IdVotacaoProposicaoCamara': 7252,\n",
    "    'IdProposicaoSenado': None,\n",
    "    'IdVotacaoProposicaoSenado': None,\n",
    "}, ignore_index=True)\n",
    "\n",
    "df_temas"
   ]
  },
  {
   "cell_type": "markdown",
   "metadata": {},
   "source": [
    "### Economia - Reforma Trabalhista\n",
    "\n",
    "Links:\n",
    "\n",
    "- https://examedaoab.jusbrasil.com.br/noticias/477395550/reforma-trabalhista-e-aprovada-no-senado-confira-o-que-muda-na-lei\n",
    "\n",
    "- https://www.nexojornal.com.br/expresso/2017/11/10/O-que-muda-com-a-entrada-em-vigor-da-reforma-trabalhista\n",
    "\n",
    "- http://especiais.g1.globo.com/economia/economia/concursos-e-emprego/2017/nova-lei-trabalhista-traz-mudancas-na-clt/"
   ]
  },
  {
   "cell_type": "code",
   "execution_count": 46,
   "metadata": {},
   "outputs": [
    {
     "data": {
      "text/html": [
       "<div>\n",
       "<style scoped>\n",
       "    .dataframe tbody tr th:only-of-type {\n",
       "        vertical-align: middle;\n",
       "    }\n",
       "\n",
       "    .dataframe tbody tr th {\n",
       "        vertical-align: top;\n",
       "    }\n",
       "\n",
       "    .dataframe thead th {\n",
       "        text-align: right;\n",
       "    }\n",
       "</style>\n",
       "<table border=\"1\" class=\"dataframe\">\n",
       "  <thead>\n",
       "    <tr style=\"text-align: right;\">\n",
       "      <th></th>\n",
       "      <th>id</th>\n",
       "      <th>idCategoria</th>\n",
       "      <th>titulo</th>\n",
       "      <th>descricao</th>\n",
       "      <th>urlDetalhes</th>\n",
       "      <th>origemImprensa</th>\n",
       "      <th>IdProposicaoCamara</th>\n",
       "      <th>IdVotacaoProposicaoCamara</th>\n",
       "      <th>IdProposicaoSenado</th>\n",
       "      <th>IdVotacaoProposicaoSenado</th>\n",
       "    </tr>\n",
       "  </thead>\n",
       "  <tbody>\n",
       "    <tr>\n",
       "      <th>0</th>\n",
       "      <td>1</td>\n",
       "      <td>1</td>\n",
       "      <td>Congelamento dos Gastos em Serviços Públicos (...</td>\n",
       "      <td>A proposta do atual governo é estabelecer uma ...</td>\n",
       "      <td>https://www.nexojornal.com.br/expresso/2016/10...</td>\n",
       "      <td>False</td>\n",
       "      <td>2088351</td>\n",
       "      <td>7252</td>\n",
       "      <td>None</td>\n",
       "      <td>None</td>\n",
       "    </tr>\n",
       "    <tr>\n",
       "      <th>1</th>\n",
       "      <td>2</td>\n",
       "      <td>1</td>\n",
       "      <td>Reforma Trabalhista</td>\n",
       "      <td>As alterações mexem em pontos como férias, jor...</td>\n",
       "      <td>https://examedaoab.jusbrasil.com.br/noticias/4...</td>\n",
       "      <td>False</td>\n",
       "      <td>2122076</td>\n",
       "      <td>7492</td>\n",
       "      <td>None</td>\n",
       "      <td>None</td>\n",
       "    </tr>\n",
       "  </tbody>\n",
       "</table>\n",
       "</div>"
      ],
      "text/plain": [
       "  id idCategoria                                             titulo  \\\n",
       "0  1           1  Congelamento dos Gastos em Serviços Públicos (...   \n",
       "1  2           1                                Reforma Trabalhista   \n",
       "\n",
       "                                           descricao  \\\n",
       "0  A proposta do atual governo é estabelecer uma ...   \n",
       "1  As alterações mexem em pontos como férias, jor...   \n",
       "\n",
       "                                         urlDetalhes origemImprensa  \\\n",
       "0  https://www.nexojornal.com.br/expresso/2016/10...          False   \n",
       "1  https://examedaoab.jusbrasil.com.br/noticias/4...          False   \n",
       "\n",
       "  IdProposicaoCamara IdVotacaoProposicaoCamara IdProposicaoSenado  \\\n",
       "0            2088351                      7252               None   \n",
       "1            2122076                      7492               None   \n",
       "\n",
       "  IdVotacaoProposicaoSenado  \n",
       "0                      None  \n",
       "1                      None  "
      ]
     },
     "execution_count": 46,
     "metadata": {},
     "output_type": "execute_result"
    }
   ],
   "source": [
    "df_temas = df_temas.append({\n",
    "    'id': 2,\n",
    "    'idCategoria': 1,\n",
    "    'titulo': 'Reforma Trabalhista',\n",
    "    'descricao': 'As alterações mexem em pontos como férias, jornada de trabalho, remuneração e plano de carreira.',\n",
    "    'urlDetalhes': 'https://examedaoab.jusbrasil.com.br/noticias/477395550/reforma-trabalhista-e-aprovada-no-senado-confira-o-que-muda-na-lei;https://www.nexojornal.com.br/expresso/2017/11/10/O-que-muda-com-a-entrada-em-vigor-da-reforma-trabalhista;http://especiais.g1.globo.com/economia/economia/concursos-e-emprego/2017/nova-lei-trabalhista-traz-mudancas-na-clt/',\n",
    "    'origemImprensa': False,\n",
    "    'IdProposicaoCamara': 2122076,\n",
    "    'IdVotacaoProposicaoCamara': 7492,\n",
    "    'IdProposicaoSenado': None,\n",
    "    'IdVotacaoProposicaoSenado': None,\n",
    "}, ignore_index=True)\n",
    "\n",
    "df_temas"
   ]
  },
  {
   "cell_type": "markdown",
   "metadata": {},
   "source": [
    "### Economia - Terceirização de Todas as Atividades\n",
    "\n",
    "Links:\n",
    "\n",
    "- \n",
    "\n",
    "- \n",
    "\n",
    "- "
   ]
  },
  {
   "cell_type": "code",
   "execution_count": null,
   "metadata": {},
   "outputs": [],
   "source": [
    "df_temas = df_temas.append({\n",
    "    'id': 3,\n",
    "    'idCategoria': 1,\n",
    "    'titulo': 'Terceirização de Todas as Atividades',\n",
    "    'descricao': '',\n",
    "    'urlDetalhes': '',\n",
    "    'origemImprensa': False,\n",
    "    'IdProposicaoCamara': 20794,\n",
    "    'IdVotacaoProposicaoCamara': 7431,\n",
    "    'IdProposicaoSenado': None,\n",
    "    'IdVotacaoProposicaoSenado': None,\n",
    "}, ignore_index=True)\n",
    "\n",
    "df_temas"
   ]
  },
  {
   "cell_type": "markdown",
   "metadata": {},
   "source": [
    "### Economia - Reforma da Previdência\n",
    "\n",
    "Links:\n",
    "\n",
    "- \n",
    "\n",
    "- \n",
    "\n",
    "- "
   ]
  },
  {
   "cell_type": "code",
   "execution_count": null,
   "metadata": {},
   "outputs": [],
   "source": [
    "df_temas = df_temas.append({\n",
    "    'id': 4,\n",
    "    'idCategoria': 1,\n",
    "    'titulo': 'Reforma da Previdência',\n",
    "    'descricao': '',\n",
    "    'urlDetalhes': '',\n",
    "    'origemImprensa': True,\n",
    "    'IdProposicaoCamara': None,\n",
    "    'IdVotacaoProposicaoCamara': None,\n",
    "    'IdProposicaoSenado': None,\n",
    "    'IdVotacaoProposicaoSenado': None,\n",
    "}, ignore_index=True)\n",
    "\n",
    "df_temas"
   ]
  },
  {
   "cell_type": "markdown",
   "metadata": {},
   "source": [
    "### Economia - Taxação de Grandes Fortunas\n",
    "\n",
    "Links:\n",
    "\n",
    "- \n",
    "\n",
    "- \n",
    "\n",
    "- "
   ]
  },
  {
   "cell_type": "code",
   "execution_count": null,
   "metadata": {},
   "outputs": [],
   "source": [
    "df_temas = df_temas.append({\n",
    "    'id': 5,\n",
    "    'idCategoria': 1,\n",
    "    'titulo': 'Taxação de Heranças e Grandes Fortunas',\n",
    "    'descricao': '',\n",
    "    'urlDetalhes': '',\n",
    "    'origemImprensa': True,\n",
    "    'IdProposicaoCamara': None,\n",
    "    'IdVotacaoProposicaoCamara': None,\n",
    "    'IdProposicaoSenado': None,\n",
    "    'IdVotacaoProposicaoSenado': None,\n",
    "}, ignore_index=True)\n",
    "\n",
    "df_temas"
   ]
  },
  {
   "cell_type": "markdown",
   "metadata": {},
   "source": [
    "### Economia - Prioridade ao Controle de Gastos\n",
    "\n",
    "Links:\n",
    "\n",
    "- \n",
    "\n",
    "- \n",
    "\n",
    "- "
   ]
  },
  {
   "cell_type": "code",
   "execution_count": null,
   "metadata": {},
   "outputs": [],
   "source": [
    "df_temas = df_temas.append({\n",
    "    'id': 6,\n",
    "    'idCategoria': 1,\n",
    "    'titulo': 'Prioridade ao Controle de Gastos',\n",
    "    'descricao': '',\n",
    "    'urlDetalhes': '',\n",
    "    'origemImprensa': True,\n",
    "    'IdProposicaoCamara': None,\n",
    "    'IdVotacaoProposicaoCamara': None,\n",
    "    'IdProposicaoSenado': None,\n",
    "    'IdVotacaoProposicaoSenado': None,\n",
    "}, ignore_index=True)\n",
    "\n",
    "df_temas"
   ]
  }
 ],
 "metadata": {
  "kernelspec": {
   "display_name": "Python 3",
   "language": "python",
   "name": "python3"
  },
  "language_info": {
   "codemirror_mode": {
    "name": "ipython",
    "version": 3
   },
   "file_extension": ".py",
   "mimetype": "text/x-python",
   "name": "python",
   "nbconvert_exporter": "python",
   "pygments_lexer": "ipython3",
   "version": "3.6.5"
  }
 },
 "nbformat": 4,
 "nbformat_minor": 2
}
